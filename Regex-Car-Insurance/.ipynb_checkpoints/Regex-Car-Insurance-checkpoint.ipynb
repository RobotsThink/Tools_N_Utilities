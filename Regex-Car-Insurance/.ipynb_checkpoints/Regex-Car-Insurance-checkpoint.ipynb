{
 "cells": [
  {
   "cell_type": "markdown",
   "metadata": {},
   "source": [
    "## Importing required packages"
   ]
  },
  {
   "cell_type": "code",
   "execution_count": 1,
   "metadata": {},
   "outputs": [],
   "source": [
    "import re"
   ]
  },
  {
   "cell_type": "markdown",
   "metadata": {},
   "source": [
    "## 1. First doing 1 by 1 for individual sentence"
   ]
  },
  {
   "cell_type": "code",
   "execution_count": null,
   "metadata": {},
   "outputs": [],
   "source": []
  },
  {
   "cell_type": "code",
   "execution_count": 2,
   "metadata": {},
   "outputs": [
    {
     "name": "stdout",
     "output_type": "stream",
     "text": [
      "12.5L-15 LRF/12\n"
     ]
    }
   ],
   "source": [
    "string1=\"Carlisle Farm Specialist F-1 Farm Tire - 12.5L-15 LRF/12 ply (Wheel Not Included)\"\n",
    "# To match and extract below\n",
    "#12.5L-15 LRF/12\n",
    "\n",
    "pattern1 = \"([a-zA-Z0-9-]+ ){6}(- )*(\\d+\\.*\\d*L-\\d+ [A-Z]{3}/\\d+) ply.*\\)\"\n",
    "\n",
    "p = re.compile(pattern1)\n",
    "\n",
    "print(p.search(string1).group(3))"
   ]
  },
  {
   "cell_type": "code",
   "execution_count": 3,
   "metadata": {},
   "outputs": [
    {
     "name": "stdout",
     "output_type": "stream",
     "text": [
      "205/50ZR16 OWL87W\n"
     ]
    }
   ],
   "source": [
    "string2=\"Evergreen EU72 205/50ZR16 OWL87W RT-5 Truck tire\"\n",
    "# To match and extract below\n",
    "# 205/50ZR16 OWL87W\n",
    "\n",
    "pattern2 =\"(\\w+) ([E][U]\\d+)* (\\d+/\\d+[A-Z]{2}\\d+ [A-Z]{3}\\d+[A-Z]) .*[a-z]\"\n",
    "\n",
    "p = re.compile(pattern2)\n",
    "\n",
    "print(p.search(string2).group(3))"
   ]
  },
  {
   "cell_type": "code",
   "execution_count": 4,
   "metadata": {},
   "outputs": [
    {
     "name": "stdout",
     "output_type": "stream",
     "text": [
      "ST215/75R14\n"
     ]
    }
   ],
   "source": [
    "string3 = \"Goodyear Marathon Trailer Tire w/Galvanized Rim ST215/75R14 LRC (5 Lug On 4.5)\"\n",
    "# To match and extract below\n",
    "# ST215/75R14\n",
    "\n",
    "pattern3 =\"(([a-zA-Z/]+ )){6}([A-Z]{2}\\d+/\\d+[A-Z]\\d+) [A-Z]{2,3} .*\\)\"\n",
    "\n",
    "p = re.compile(pattern3)\n",
    "\n",
    "print(p.search(string3).group(3))"
   ]
  },
  {
   "cell_type": "code",
   "execution_count": 5,
   "metadata": {},
   "outputs": [
    {
     "name": "stdout",
     "output_type": "stream",
     "text": [
      "265/35ZR18 97W XL\n"
     ]
    }
   ],
   "source": [
    "string4=\"1 X New Achilles \\\"ATR Sport\\\" 265/35ZR18 97W XL High Performance Tires 265/35/18\"\n",
    "# To match and extract below\n",
    "#265/35ZR18 97W XL\n",
    "\n",
    "pattern4='\\d+ [A-Z]+ (\\w+ ){1,2}(\\\\\\\"[\\w+ ]+\\\\\\\")? (\\d+/\\d+[A-Z]{1,2}\\d+ \\d+[A-Z]{1,2} [A-Z]{1,3}).*Tire.*'\n",
    "\n",
    "p = re.compile(pattern4)\n",
    "\n",
    "print(p.search(string4).group(3))"
   ]
  },
  {
   "cell_type": "code",
   "execution_count": 6,
   "metadata": {},
   "outputs": [
    {
     "name": "stdout",
     "output_type": "stream",
     "text": [
      "ST235/85R16-14PR TL\n"
     ]
    }
   ],
   "source": [
    "string5=\"Set of 2 ZEEMAX Heavy Duty All Steel ST235/85R16-14PR TL Trailer Tire - 11073\"\n",
    "# To match and extract below\n",
    "#ST235/85R16-14PR TL\n",
    "\n",
    "pattern5=\"(\\w+ ){2,8}([A-Z]{1,2}\\d+/\\d+[A-Z]{1,2}\\d+-\\d+[A-Z]{1,2} [A-Z]{1,2}).*Tire*\"\n",
    "p =re.compile(pattern5)\n",
    "\n",
    "print(p.search(string5).group(2))"
   ]
  },
  {
   "cell_type": "code",
   "execution_count": 7,
   "metadata": {},
   "outputs": [
    {
     "name": "stdout",
     "output_type": "stream",
     "text": [
      "LT285/70R17/8 118Q BW\n"
     ]
    }
   ],
   "source": [
    "string6=\"1 X New Lexani LXHT-106 LT285/70R17/8 118Q BW All Season Performance SUV Tires\"\n",
    "# To match and extract below\n",
    "#LT285/70R17/8 118Q BW\n",
    "\n",
    "pattern6=\"(\\d+ [A-Z]+)? (\\w+ ){1,2}[A-Z]+-\\d+ ([A-Z]+\\d+/\\d+[A-Z]+\\d+/\\d+ \\d+[A-Z]{1,2} [A-Z]+).*Tire.*\"\n",
    "p = re.compile(pattern6)\n",
    "\n",
    "print(p.search(string6).group(3))"
   ]
  },
  {
   "cell_type": "code",
   "execution_count": 8,
   "metadata": {},
   "outputs": [
    {
     "name": "stdout",
     "output_type": "stream",
     "text": [
      "LT245/75R16 120/116N E/10\n"
     ]
    }
   ],
   "source": [
    "string7 = \"1 X New Nankang N889 Mudstar M/T LT245/75R16 120/116N E/10 Ply ROWL Mud Tires MT\"\n",
    "# To match and extract below\n",
    "#LT245/75R16120/116N E/10\n",
    "\n",
    "pattern7=\"(([0-9A-Za-z/]+ )){2,7}([A-Z]{1,2}\\d+/\\d+[A-Z]+\\d+ \\d+/\\d+[A-Z]+ [A-Z]+/\\d+).*Tire.*\"\n",
    "p = re.compile(pattern7)\n",
    "print(p.search(string7).group(3))"
   ]
  },
  {
   "cell_type": "code",
   "execution_count": 9,
   "metadata": {},
   "outputs": [
    {
     "name": "stdout",
     "output_type": "stream",
     "text": [
      "130/90-16\n"
     ]
    }
   ],
   "source": [
    "string8=\"Pirelli Night Dragon Motorcycle Front Tire 130/90-16 2211500\"\n",
    "# To match and extract below\n",
    "#130/90-16\n",
    "\n",
    "pattern8=\"((\\w+ )){1,6}(\\d+/\\d+-\\d+).*[0-9]\"\n",
    "p = re.compile(pattern8)\n",
    "print(p.search(string8).group(3))"
   ]
  },
  {
   "cell_type": "markdown",
   "metadata": {},
   "source": [
    "## 2. Handling all in 1 regex expression"
   ]
  },
  {
   "cell_type": "code",
   "execution_count": 10,
   "metadata": {},
   "outputs": [],
   "source": [
    "#### Combining all for 1 expression\n",
    "\n",
    "## If the Usecase is guranteed to be fixed on only these types of statement formats, we can make 1 regex but \n",
    "## if need for strong matching it can be made more controlled with tighter boundary conditions\n",
    "\n",
    "## Wherever possible I have tried to analyse future scenario and been flexible with word matching so that it doesnot fail on \n",
    "## slight modifications of future strings\n",
    "\n",
    "## However its flexible, it can be tightened as well as made flexible as desired."
   ]
  },
  {
   "cell_type": "code",
   "execution_count": 11,
   "metadata": {},
   "outputs": [],
   "source": [
    "# This pattern matches the pattern from beginning till the beginning of the expected string\n",
    "front_pattern=\"([0-9a-zA-Z-]+ ){2,8}-?(\\\\\\\"[\\w+ ]+\\\\\\\" ){0,1}(([a-zA-Z]+/[a-zA-Z]+) [A-Z][a-z]+ ){0,1}([A-Z]/[A-Z] )?\"\n",
    "\n",
    "# This matches the expected pattern we need to extract\n",
    "middle_pattern=\"([0-9A-Z\\.\\-/]+ ([A-Z]{3}/\\d+)?([A-Z]{3}\\d+[A-Z])?(\\d{2}[A-Z])?([A-Z]{2} )?(\\d{3}[A-Z])?(\\d+/\\d+[A-Z])?( [A-Z]{2} )?( [A-Z]/\\d{2})?)\"\n",
    "\n",
    "# This is just for sanity or future usecase\n",
    "end_pattern=\"\"\n",
    "\n",
    "### This pattern matches all the sentences\n",
    "full_pattern=front_pattern + middle_pattern + end_pattern\n"
   ]
  },
  {
   "cell_type": "code",
   "execution_count": 12,
   "metadata": {},
   "outputs": [],
   "source": [
    "full_pe = re.compile(full_pattern)"
   ]
  },
  {
   "cell_type": "code",
   "execution_count": 13,
   "metadata": {},
   "outputs": [
    {
     "name": "stdout",
     "output_type": "stream",
     "text": [
      "--------------------------------------------------------------------------------------------------\n",
      "                 *RegexOutput*      ------------------------                      *Expected*\n",
      "--------------------------------------------------------------------------------------------------\n",
      "               12.5L-15 LRF/12      ------------------------                 12.5L-15 LRF/12\n",
      "             205/50ZR16 OWL87W      ------------------------               205/50ZR16 OWL87W\n",
      "                  ST215/75R14       ------------------------                     ST215/75R14\n",
      "            265/35ZR18 97W XL       ------------------------               265/35ZR18 97W XL\n",
      "          ST235/85R16-14PR TL       ------------------------             ST235/85R16-14PR TL\n",
      "        LT285/70R17/8 118Q BW       ------------------------           LT285/70R17/8 118Q BW\n",
      "     LT245/75R16 120/116N E/10      ------------------------       LT245/75R16 120/116N E/10\n",
      "                    130/90-16       ------------------------                       130/90-16\n"
     ]
    }
   ],
   "source": [
    "printline='--------------------------------------------------------------------------------------------------'\n",
    "\n",
    "# Dict to hold the given input sentences \n",
    "mystring={\n",
    "    \n",
    "    'string1':string1,\n",
    "    'string2':string2,\n",
    "    'string3':string3,\n",
    "    'string4':string4,\n",
    "    'string5':string5,\n",
    "    'string6':string6,\n",
    "    'string7':string7,\n",
    "    'string8':string8\n",
    "}\n",
    "\n",
    "# Dict to hold the expected pattern from each string\n",
    "expected={\n",
    "    'string1':'12.5L-15 LRF/12',\n",
    "    'string2':'205/50ZR16 OWL87W',\n",
    "    'string3':'ST215/75R14',\n",
    "    'string4':'265/35ZR18 97W XL',\n",
    "    'string5':'ST235/85R16-14PR TL',\n",
    "    'string6':'LT285/70R17/8 118Q BW',\n",
    "    'string7':'LT245/75R16 120/116N E/10',\n",
    "    'string8':'130/90-16'\n",
    "}\n",
    "\n",
    "print(printline)\n",
    "print('%30s      ------------------------  %30s'%('*RegexOutput*','*Expected*'))\n",
    "print(printline)\n",
    "\n",
    "# Printing the matched pattern and the expected pattern for validation\n",
    "for key in mystring :      \n",
    "    print('%30s      ------------------------  %30s'% (full_pe.search(mystring[key]).group(6),expected[key]))"
   ]
  },
  {
   "cell_type": "code",
   "execution_count": null,
   "metadata": {},
   "outputs": [],
   "source": []
  }
 ],
 "metadata": {
  "kernelspec": {
   "display_name": "Python 3",
   "language": "python",
   "name": "python3"
  },
  "language_info": {
   "codemirror_mode": {
    "name": "ipython",
    "version": 3
   },
   "file_extension": ".py",
   "mimetype": "text/x-python",
   "name": "python",
   "nbconvert_exporter": "python",
   "pygments_lexer": "ipython3",
   "version": "3.7.3"
  }
 },
 "nbformat": 4,
 "nbformat_minor": 2
}
